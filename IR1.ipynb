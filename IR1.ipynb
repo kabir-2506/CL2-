{
 "cells": [
  {
   "cell_type": "code",
   "execution_count": 1,
   "id": "c5f7716f-484e-4378-a9ca-0eb4ea4198c9",
   "metadata": {},
   "outputs": [],
   "source": [
    "import nltk\n",
    "from nltk.corpus import stopwords\n",
    "from nltk.tokenize import word_tokenize\n",
    "from nltk.stem import PorterStemmer , WordNetLemmatizer"
   ]
  },
  {
   "cell_type": "code",
   "execution_count": 13,
   "id": "ac450d23-8a1a-47a6-9a3e-3b8f709c04f2",
   "metadata": {},
   "outputs": [
    {
     "name": "stderr",
     "output_type": "stream",
     "text": [
      "[nltk_data] Downloading package stopwords to\n",
      "[nltk_data]     C:\\Users\\RAJ\\AppData\\Roaming\\nltk_data...\n",
      "[nltk_data]   Package stopwords is already up-to-date!\n",
      "[nltk_data] Downloading package punkt to\n",
      "[nltk_data]     C:\\Users\\RAJ\\AppData\\Roaming\\nltk_data...\n",
      "[nltk_data]   Package punkt is already up-to-date!\n",
      "[nltk_data] Downloading package wordnet to\n",
      "[nltk_data]     C:\\Users\\RAJ\\AppData\\Roaming\\nltk_data...\n"
     ]
    },
    {
     "data": {
      "text/plain": [
       "True"
      ]
     },
     "execution_count": 13,
     "metadata": {},
     "output_type": "execute_result"
    }
   ],
   "source": [
    "nltk.download(\"stopwords\")\n",
    "nltk.download(\"punkt\")\n",
    "nltk.download('wordnet')\n"
   ]
  },
  {
   "cell_type": "code",
   "execution_count": 3,
   "id": "6318d48d-5093-433d-98a4-43ec0fc0000a",
   "metadata": {},
   "outputs": [],
   "source": [
    "text_document = \"Text preprocessing is an essential step in natural language\""
   ]
  },
  {
   "cell_type": "code",
   "execution_count": 4,
   "id": "62cc74d8-27d3-4af1-b161-ac2ef113c62a",
   "metadata": {},
   "outputs": [],
   "source": [
    "words=word_tokenize(text_document)"
   ]
  },
  {
   "cell_type": "code",
   "execution_count": 5,
   "id": "1460c8d2-490e-4eea-85d9-33f9cac2d474",
   "metadata": {},
   "outputs": [
    {
     "data": {
      "text/plain": [
       "['Text',\n",
       " 'preprocessing',\n",
       " 'is',\n",
       " 'an',\n",
       " 'essential',\n",
       " 'step',\n",
       " 'in',\n",
       " 'natural',\n",
       " 'language']"
      ]
     },
     "execution_count": 5,
     "metadata": {},
     "output_type": "execute_result"
    }
   ],
   "source": [
    "words"
   ]
  },
  {
   "cell_type": "code",
   "execution_count": 7,
   "id": "52e7f512-d518-45a5-a632-f9c702b25f2d",
   "metadata": {},
   "outputs": [],
   "source": [
    "stop=stopwords.words('english')"
   ]
  },
  {
   "cell_type": "code",
   "execution_count": 8,
   "id": "b7f5da13-6abf-4e7d-afa5-b2e6bb9150e5",
   "metadata": {},
   "outputs": [
    {
     "data": {
      "text/plain": [
       "['Text', 'preprocessing', 'essential', 'step', 'natural', 'language']"
      ]
     },
     "execution_count": 8,
     "metadata": {},
     "output_type": "execute_result"
    }
   ],
   "source": [
    "pre=[]\n",
    "for i in words:\n",
    "    if i not in stopwords.words('english'):\n",
    "        pre.append(i)\n",
    "pre\n",
    "        "
   ]
  },
  {
   "cell_type": "code",
   "execution_count": 9,
   "id": "b82b0bfb-c317-4e67-9cfd-07abc0852269",
   "metadata": {},
   "outputs": [],
   "source": [
    "stemmer=PorterStemmer()\n",
    "lemmatizer=WordNetLemmatizer()"
   ]
  },
  {
   "cell_type": "code",
   "execution_count": 14,
   "id": "f04fcb70-f09a-4fa1-8ea6-073d94e98059",
   "metadata": {},
   "outputs": [],
   "source": [
    "stem=[]\n",
    "lemma=[]\n",
    "for i in pre:\n",
    "    stem.append(stemmer.stem(i))\n",
    "    lemma.append(lemmatizer.lemmatize(i))\n"
   ]
  },
  {
   "cell_type": "code",
   "execution_count": null,
   "id": "70bc9310-cc72-4dfe-a98e-5ae906cf9723",
   "metadata": {},
   "outputs": [],
   "source": []
  }
 ],
 "metadata": {
  "kernelspec": {
   "display_name": "Python 3 (ipykernel)",
   "language": "python",
   "name": "python3"
  },
  "language_info": {
   "codemirror_mode": {
    "name": "ipython",
    "version": 3
   },
   "file_extension": ".py",
   "mimetype": "text/x-python",
   "name": "python",
   "nbconvert_exporter": "python",
   "pygments_lexer": "ipython3",
   "version": "3.11.3"
  }
 },
 "nbformat": 4,
 "nbformat_minor": 5
}
