{
 "cells": [
  {
   "cell_type": "code",
   "execution_count": 2,
   "id": "9fbd1d57-874f-42ca-88f0-a6e628f39029",
   "metadata": {},
   "outputs": [],
   "source": [
    "import re\n",
    "from collections import defaultdict\n",
    "from nltk.corpus import stopwords"
   ]
  },
  {
   "cell_type": "code",
   "execution_count": 3,
   "id": "a1b88bfd-e573-4b58-a075-79d53d46760d",
   "metadata": {},
   "outputs": [],
   "source": [
    "\n",
    "documents = {\n",
    " 1: \"This is the first document. It contains some text.\",\n",
    " 2: \"The second document is longer. It also contains some text.\",\n",
    " 3: \"This is the third document. It is different from the first two.\",\n",
    "}\n"
   ]
  },
  {
   "cell_type": "code",
   "execution_count": 4,
   "id": "352a1025-ba4b-4bee-8d06-b22cd398fcea",
   "metadata": {},
   "outputs": [],
   "source": [
    "def preprocess(doc):\n",
    "    tokens=re.findall(r'\\w+',doc.lower())\n",
    "    token=[]\n",
    "    for i in tokens:\n",
    "        if i not in stopwords.words('english'):\n",
    "            token.append(i)\n",
    "    return token\n",
    "            "
   ]
  },
  {
   "cell_type": "code",
   "execution_count": 5,
   "id": "5b3bae8b-5941-4945-a8d2-cf7e82bee012",
   "metadata": {},
   "outputs": [],
   "source": [
    "inverted_list=defaultdict(list)\n",
    "\n",
    "for doc_id,doc_text in documents.items():\n",
    "    tokens=preprocess(doc_text)\n",
    "    for i in tokens:\n",
    "        inverted_list[i].append(doc_id)\n",
    "        \n",
    "    "
   ]
  },
  {
   "cell_type": "code",
   "execution_count": 9,
   "id": "e4545ad2-a343-4ef8-a47f-bd24aba4955b",
   "metadata": {},
   "outputs": [],
   "source": [
    "def retrieve(query):\n",
    "    query_tokens=preprocess(query)\n",
    "    result=set()\n",
    "    for i in query_tokens:\n",
    "        if i in inverted_list:\n",
    "            result.update(inverted_list[i])\n",
    "    return result"
   ]
  },
  {
   "cell_type": "code",
   "execution_count": 10,
   "id": "fd3f658a-43d8-4f56-a2c7-074b7f606356",
   "metadata": {},
   "outputs": [],
   "source": [
    "query = \"document contains text\"\n",
    "matching_documents = retrieve(query)\n"
   ]
  },
  {
   "cell_type": "code",
   "execution_count": 11,
   "id": "6f2c70ea-0a95-4abd-af38-3b8a428ea069",
   "metadata": {},
   "outputs": [
    {
     "name": "stdout",
     "output_type": "stream",
     "text": [
      "Matching documents for query 'document contains text':\n",
      "Document 1: This is the first document. It contains some text.\n",
      "Document 2: The second document is longer. It also contains some text.\n",
      "Document 3: This is the third document. It is different from the first two.\n"
     ]
    }
   ],
   "source": [
    "if matching_documents:\n",
    " print(f\"Matching documents for query '{query}':\")\n",
    " for doc_id in matching_documents:\n",
    "     print(f\"Document {doc_id}: {documents[doc_id]}\")\n",
    "else:\n",
    " print(\"No matching documents found.\")"
   ]
  },
  {
   "cell_type": "code",
   "execution_count": null,
   "id": "80827af1-848b-46fd-b38a-fd804eb9f248",
   "metadata": {},
   "outputs": [],
   "source": []
  }
 ],
 "metadata": {
  "kernelspec": {
   "display_name": "Python 3 (ipykernel)",
   "language": "python",
   "name": "python3"
  },
  "language_info": {
   "codemirror_mode": {
    "name": "ipython",
    "version": 3
   },
   "file_extension": ".py",
   "mimetype": "text/x-python",
   "name": "python",
   "nbconvert_exporter": "python",
   "pygments_lexer": "ipython3",
   "version": "3.11.3"
  }
 },
 "nbformat": 4,
 "nbformat_minor": 5
}
